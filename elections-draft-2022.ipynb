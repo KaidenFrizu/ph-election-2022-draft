{
 "cells": [
  {
   "cell_type": "code",
   "execution_count": null,
   "id": "tender-coating",
   "metadata": {
    "ExecuteTime": {
     "end_time": "2022-05-09T20:12:58.610520Z",
     "start_time": "2022-05-09T20:12:57.020053Z"
    }
   },
   "outputs": [],
   "source": [
    "import pandas as pd\n",
    "\n",
    "df = pd.read_csv('test.csv')\n",
    "\n",
    "df['Time'] = pd.to_datetime(df['Time'],format= '%H:%M PM' ).dt.time\n",
    "df[\"Marcos\"] = df[\"Marcos\"].str.replace(',', '').astype(float)\n",
    "df[\"Robredo\"] = df[\"Robredo\"].str.replace(',', '').astype(float)\n"
   ]
  },
  {
   "cell_type": "code",
   "execution_count": null,
   "id": "cutting-mobile",
   "metadata": {
    "ExecuteTime": {
     "end_time": "2022-05-09T20:12:58.622703Z",
     "start_time": "2022-05-09T20:12:58.613492Z"
    }
   },
   "outputs": [],
   "source": [
    "df[\"Marcos - Not Cumulative\"] = df[\"Marcos\"] - df[\"Marcos\"].shift(-1)\n",
    "df[\"Robredo - Not Cumulative\"] = df[\"Robredo\"] - df[\"Robredo\"].shift(-1)"
   ]
  },
  {
   "cell_type": "code",
   "execution_count": null,
   "id": "vertical-document",
   "metadata": {
    "ExecuteTime": {
     "end_time": "2022-05-09T20:12:58.639380Z",
     "start_time": "2022-05-09T20:12:58.628961Z"
    }
   },
   "outputs": [],
   "source": [
    "df[\"Total - Not Cumulative\"] = df[\"Marcos - Not Cumulative\"] + df[\"Robredo - Not Cumulative\"]\n",
    "df[\"Marcos Share - Not Cumulative\"] = df[\"Marcos - Not Cumulative\"] / df[\"Total - Not Cumulative\"]\n",
    "df[\"Robredo Share - Not Cumulative\"] = df[\"Robredo - Not Cumulative\"] / df[\"Total - Not Cumulative\"]"
   ]
  },
  {
   "cell_type": "code",
   "execution_count": null,
   "id": "persistent-holocaust",
   "metadata": {
    "ExecuteTime": {
     "end_time": "2022-05-09T20:13:09.296803Z",
     "start_time": "2022-05-09T20:13:09.139889Z"
    }
   },
   "outputs": [],
   "source": [
    "import matplotlib.pyplot as plt\n",
    "\n",
    "# Initialize figure and axis\n",
    "fig, ax = plt.subplots(figsize=(8, 8))\n",
    "df[\"Time\"] = pd.to_datetime(df['Time'].astype(str))\n",
    "atetime(df['Time'].astype(str), format= '%H:%M:%S').dt.time\n",
    "\n",
    "# Plot line\n",
    "ax.plot(df['Time'], df[\"Marcos Share - Not Cumulative\"], color=\"red\", label=\"Marcos\", linewidth=3, marker='o')\n",
    "ax.plot(df['Time'], df[\"Robredo Share - Not Cumulative\"], color=\"pink\", label=\"Robredo\", linewidth=3, marker='o')\n",
    "\n",
    "plt.xticks(rotation=30)\n",
    "ax.grid()\n",
    "ax.legend();"
   ]
  }
 ],
 "metadata": {
  "kernelspec": {
   "display_name": "Python 3",
   "language": "python",
   "name": "python3"
  },
  "language_info": {
   "codemirror_mode": {
    "name": "ipython",
    "version": 3
   },
   "file_extension": ".py",
   "mimetype": "text/x-python",
   "name": "python",
   "nbconvert_exporter": "python",
   "pygments_lexer": "ipython3",
   "version": "3.8.3"
  }
 },
 "nbformat": 4,
 "nbformat_minor": 5
}
